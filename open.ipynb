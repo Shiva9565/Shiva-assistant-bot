{
 "cells": [
  {
   "cell_type": "code",
   "execution_count": 7,
   "id": "6c8a8bf5",
   "metadata": {},
   "outputs": [],
   "source": [
    "import os\n",
    "from dotenv import load_dotenv\n",
    "load_dotenv()\n",
    "\n",
    "\n",
    "os.environ['OPENAI_API_KEY'] = os.getenv(\"OPENAI_API_KEY\")\n",
    "#Langchain Tracking \n",
    "os.environ['LANGCHAIN_TRACKING_V2'] = \"true\"\n",
    "os.environ['LANGCHAIN_API'] = os.getenv(\"LANGCHAIN_API\")\n",
    "os.environ['LANGCHAIN_PROJECT'] = os.getenv(\"LANGCHAIN_PROJECT\")"
   ]
  },
  {
   "cell_type": "code",
   "execution_count": 9,
   "id": "07b78116",
   "metadata": {},
   "outputs": [
    {
     "name": "stdout",
     "output_type": "stream",
     "text": [
      "client=<openai.resources.chat.completions.completions.Completions object at 0x107c1edd0> async_client=<openai.resources.chat.completions.completions.AsyncCompletions object at 0x107c1a530> root_client=<openai.OpenAI object at 0x107c1ded0> root_async_client=<openai.AsyncOpenAI object at 0x107c1d180> model_name='gpt-4o' model_kwargs={} openai_api_key=SecretStr('**********')\n"
     ]
    }
   ],
   "source": [
    "from langchain_openai import ChatOpenAI\n",
    "llm = ChatOpenAI(model=\"gpt-4o\")\n",
    "print(llm)"
   ]
  },
  {
   "cell_type": "code",
   "execution_count": null,
   "id": "96a83703",
   "metadata": {},
   "outputs": [],
   "source": [
    "#Input and getting response from LLM \n",
    "result = llm.invoke(\"What the current GDP of india\")\n",
    "print(result)"
   ]
  },
  {
   "cell_type": "code",
   "execution_count": 12,
   "id": "e08db180",
   "metadata": {},
   "outputs": [
    {
     "data": {
      "text/plain": [
       "ChatPromptTemplate(input_variables=['input'], input_types={}, partial_variables={}, messages=[SystemMessagePromptTemplate(prompt=PromptTemplate(input_variables=[], input_types={}, partial_variables={}, template='You are an expert Ai Engineer. Provide me answer based on that'), additional_kwargs={}), HumanMessagePromptTemplate(prompt=PromptTemplate(input_variables=['input'], input_types={}, partial_variables={}, template='{input}'), additional_kwargs={})])"
      ]
     },
     "execution_count": 12,
     "metadata": {},
     "output_type": "execute_result"
    }
   ],
   "source": [
    "#Chat prompt Template \n",
    "from langchain_core.prompts import ChatPromptTemplate\n",
    "\n",
    "prompt = ChatPromptTemplate(\n",
    "    [\n",
    "        (\"system\",\"You are an expert Ai Engineer. Provide me answer based on that\"),\n",
    "        (\"user\",\"{input}\")\n",
    "    ]\n",
    ")\n",
    "prompt"
   ]
  },
  {
   "cell_type": "code",
   "execution_count": null,
   "id": "cbddefff",
   "metadata": {},
   "outputs": [],
   "source": [
    "chain = prompt|llm\n",
    "response  = chain.invoke({\"input\":\"What is langchain?\"})\n",
    "print(response)"
   ]
  },
  {
   "cell_type": "code",
   "execution_count": null,
   "id": "cc1dcf66",
   "metadata": {},
   "outputs": [],
   "source": [
    "#Using outpt parser to display the response ex: String output parser \n",
    "\n",
    "from langchain_core.output_parsers import StrOutputParser\n",
    "output_parser  = StrOutputParser()\n",
    "chain = prompt|llm|output_parser\n",
    "\n",
    "\n",
    "\n"
   ]
  }
 ],
 "metadata": {
  "kernelspec": {
   "display_name": "Python 3",
   "language": "python",
   "name": "python3"
  },
  "language_info": {
   "codemirror_mode": {
    "name": "ipython",
    "version": 3
   },
   "file_extension": ".py",
   "mimetype": "text/x-python",
   "name": "python",
   "nbconvert_exporter": "python",
   "pygments_lexer": "ipython3",
   "version": "3.10.0"
  }
 },
 "nbformat": 4,
 "nbformat_minor": 5
}
